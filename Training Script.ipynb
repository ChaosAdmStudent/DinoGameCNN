{
 "cells": [
  {
   "cell_type": "code",
   "execution_count": 1,
   "metadata": {},
   "outputs": [],
   "source": [
    "from warnings import simplefilter\n",
    "simplefilter(action='ignore', category=FutureWarning)\n",
    "import capture_actions as ca\n",
    "import dinoprocess \n",
    "from selenium import webdriver\n",
    "from sklearn.model_selection import train_test_split"
   ]
  },
  {
   "cell_type": "code",
   "execution_count": null,
   "metadata": {},
   "outputs": [],
   "source": [
    "# Start Browser and capture screenshots \n",
    "\n",
    "import warnings \n",
    "\n",
    "warnings.filterwarnings(\"ignore\")\n",
    "\n",
    "driver = webdriver.Chrome(r'C:\\Users\\laksh\\Downloads\\chromedriver_win32\\chromedriver.exe')  \n",
    "\n",
    "# Screenshots \n",
    "ca.start_browser(driver)\n",
    "labels = ca.capture_img(driver)\n",
    "img_df = ca.make_dataset(labels) "
   ]
  },
  {
   "cell_type": "code",
   "execution_count": 7,
   "metadata": {},
   "outputs": [
    {
     "name": "stdout",
     "output_type": "stream",
     "text": [
      "[  0   1   2   3   4   5   6   7   8   9  10  11  12  13  14  15  16  17\n",
      "  18  19  20  21  22  23  24  25  26  27  28  29  30  31  32  33  34  35\n",
      "  36  37  38  39  40  41  42  43  44  45  46  47  48  49  50  51  52  53\n",
      "  54  55  56  57  58  59  60  61  62  63  64  65  66  67  68  69  70  71\n",
      "  72  73  74  75  76  77  78  79  80  81  82  83  84  85  86  87  88  89\n",
      "  90  91  92  93  94  95  96  97  98  99 100 101 102 103 104 105 106 107\n",
      " 108 109 110 111 112 113 114 115 116 117 118 119 120 121 122 123 124 125\n",
      " 126 127 128 129 130 131 132 133 134 135 136 137 138 139 140 141 142 143\n",
      " 144 145 146 147 148 149 150 151 152 153 154 155 156 157 158 159 160 161\n",
      " 162 163 164 165 166 167 168 169 170 171 172 173 174 175 176 177 178 179\n",
      " 180 181 182 183 184 185 186 187 188 189 190 191 192 193 194 195 196 197\n",
      " 198 199 200 201 202 203 204 205 206 207 208 209 210 211 212 213 214 215\n",
      " 216 217 218 219 220 221 222 223 224 225 226 227 228 229 230 231 232 233\n",
      " 234 235 236 237 238 239 240 241 242 243 244 245 246 247 248 249 250 251\n",
      " 252 253 254 255]\n"
     ]
    }
   ],
   "source": [
    "# Load data \n",
    "\n",
    "import numpy as np \n",
    "from sklearn.preprocessing import StandardScaler\n",
    "\n",
    "# Loading and Pre-Processing\n",
    "X, y = dinoprocess.load_data() \n",
    "X_train, X_test, y_train, y_test = train_test_split(X, y, test_size = 0.3, random_state = 3) \n",
    "\n",
    "print(np.unique(X_train))"
   ]
  },
  {
   "cell_type": "code",
   "execution_count": 8,
   "metadata": {},
   "outputs": [
    {
     "data": {
      "text/plain": [
       "(371, 58, 282, 1)"
      ]
     },
     "execution_count": 8,
     "metadata": {},
     "output_type": "execute_result"
    }
   ],
   "source": [
    "X_train.shape "
   ]
  },
  {
   "cell_type": "code",
   "execution_count": 10,
   "metadata": {},
   "outputs": [
    {
     "name": "stdout",
     "output_type": "stream",
     "text": [
      "Train on 371 samples, validate on 159 samples\n",
      "Epoch 1/15\n",
      "371/371 - 1s - loss: 89.2825 - acc: 0.4663 - val_loss: 60.6995 - val_acc: 0.5283\n",
      "Epoch 2/15\n",
      "371/371 - 0s - loss: 19.1859 - acc: 0.6388 - val_loss: 0.6765 - val_acc: 0.8365\n",
      "Epoch 3/15\n",
      "371/371 - 0s - loss: 0.4563 - acc: 0.8679 - val_loss: 0.2196 - val_acc: 0.9308\n",
      "Epoch 4/15\n",
      "371/371 - 0s - loss: 0.1141 - acc: 0.9704 - val_loss: 0.1745 - val_acc: 0.9371\n",
      "Epoch 5/15\n",
      "371/371 - 0s - loss: 0.0479 - acc: 0.9811 - val_loss: 0.1726 - val_acc: 0.9497\n",
      "Epoch 6/15\n",
      "371/371 - 0s - loss: 0.0276 - acc: 0.9892 - val_loss: 0.2180 - val_acc: 0.9434\n",
      "Epoch 7/15\n",
      "371/371 - 0s - loss: 0.0286 - acc: 0.9865 - val_loss: 0.2677 - val_acc: 0.9371\n",
      "Epoch 8/15\n",
      "371/371 - 0s - loss: 0.0105 - acc: 0.9946 - val_loss: 0.2336 - val_acc: 0.9560\n",
      "Epoch 9/15\n",
      "371/371 - 0s - loss: 0.0047 - acc: 1.0000 - val_loss: 0.2502 - val_acc: 0.9434\n",
      "Epoch 10/15\n",
      "371/371 - 0s - loss: 0.0040 - acc: 0.9973 - val_loss: 0.3032 - val_acc: 0.9497\n",
      "Epoch 11/15\n",
      "371/371 - 0s - loss: 0.0056 - acc: 0.9973 - val_loss: 0.3106 - val_acc: 0.9308\n",
      "Epoch 12/15\n",
      "371/371 - 0s - loss: 9.5044e-04 - acc: 1.0000 - val_loss: 0.3303 - val_acc: 0.9245\n",
      "Epoch 13/15\n",
      "371/371 - 0s - loss: 7.2554e-04 - acc: 1.0000 - val_loss: 0.3390 - val_acc: 0.9497\n",
      "Epoch 14/15\n",
      "371/371 - 0s - loss: 3.3358e-04 - acc: 1.0000 - val_loss: 0.3532 - val_acc: 0.9497\n",
      "Epoch 15/15\n",
      "371/371 - 0s - loss: 2.6670e-04 - acc: 1.0000 - val_loss: 0.3387 - val_acc: 0.9434\n"
     ]
    },
    {
     "data": {
      "text/plain": [
       "<tensorflow.python.keras.callbacks.History at 0x2601558f5c8>"
      ]
     },
     "execution_count": 10,
     "metadata": {},
     "output_type": "execute_result"
    }
   ],
   "source": [
    "# Fitting the CNN Model\n",
    "\n",
    "from tensorflow.keras.models import load_model \n",
    "\n",
    "# CNN Model \n",
    "model = load_model('./model/model.h5')\n",
    "model.fit(\n",
    "    X_train, y_train, \n",
    "    batch_size=64, \n",
    "    epochs = 15, \n",
    "    verbose = 2, \n",
    "    validation_data=(X_test, y_test)\n",
    ")"
   ]
  },
  {
   "cell_type": "code",
   "execution_count": 11,
   "metadata": {},
   "outputs": [
    {
     "name": "stdout",
     "output_type": "stream",
     "text": [
      "Model: \"sequential\"\n",
      "_________________________________________________________________\n",
      "Layer (type)                 Output Shape              Param #   \n",
      "=================================================================\n",
      "conv2d (Conv2D)              (None, 56, 280, 30)       300       \n",
      "_________________________________________________________________\n",
      "max_pooling2d (MaxPooling2D) (None, 28, 140, 30)       0         \n",
      "_________________________________________________________________\n",
      "conv2d_1 (Conv2D)            (None, 26, 138, 30)       8130      \n",
      "_________________________________________________________________\n",
      "max_pooling2d_1 (MaxPooling2 (None, 13, 69, 30)        0         \n",
      "_________________________________________________________________\n",
      "flatten (Flatten)            (None, 26910)             0         \n",
      "_________________________________________________________________\n",
      "dense (Dense)                (None, 256)               6889216   \n",
      "_________________________________________________________________\n",
      "dropout (Dropout)            (None, 256)               0         \n",
      "_________________________________________________________________\n",
      "dense_1 (Dense)              (None, 256)               65792     \n",
      "_________________________________________________________________\n",
      "dropout_1 (Dropout)          (None, 256)               0         \n",
      "_________________________________________________________________\n",
      "dense_2 (Dense)              (None, 3)                 771       \n",
      "=================================================================\n",
      "Total params: 6,964,209\n",
      "Trainable params: 6,964,209\n",
      "Non-trainable params: 0\n",
      "_________________________________________________________________\n",
      "None\n"
     ]
    }
   ],
   "source": [
    "print(model.summary()) "
   ]
  },
  {
   "cell_type": "code",
   "execution_count": 31,
   "metadata": {},
   "outputs": [],
   "source": [
    "# Saving the CNN Model on disk\n",
    "\n",
    "model.save('./model/model.h5')"
   ]
  }
 ],
 "metadata": {
  "kernelspec": {
   "display_name": "Python 3",
   "language": "python",
   "name": "python3"
  },
  "language_info": {
   "codemirror_mode": {
    "name": "ipython",
    "version": 3
   },
   "file_extension": ".py",
   "mimetype": "text/x-python",
   "name": "python",
   "nbconvert_exporter": "python",
   "pygments_lexer": "ipython3",
   "version": "3.7.6"
  }
 },
 "nbformat": 4,
 "nbformat_minor": 4
}
